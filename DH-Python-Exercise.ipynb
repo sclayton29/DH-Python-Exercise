{
 "cells": [
  {
   "cell_type": "markdown",
   "metadata": {},
   "source": [
    "# Digital Humanities Python Exercise\n",
    "Created July 9, 2018  \n",
    "In this exercise, you will download tiff images from the [Gulag Support Documents Database](http://lcweb2.loc.gov/frd/gulagquery.html) maintatined by the Library of Congress. You will then OCR (optical character recognition) the files. OCR'ing will turn the images into full text searchable documents. Then, you will do some analysis of the OCR'ed files in python. \n",
    "\n",
    "### Working with Jupyter Notebook\n",
    "If you haven't worked with Jupyter notebook before here are a few tips. \n",
    "* Run code by pressing Shift + Enter. \n",
    "* You can run the cells out of order. The number beside In indicates the order the cells were run. \n",
    "* Cells that are current running will have an * instead of a number. \n",
    "* When you are typing a variable you have already created or called a function, you can use tab to autocomplete/show the possibilities. This can be a big timesaver and prevent typos. "
   ]
  },
  {
   "cell_type": "markdown",
   "metadata": {},
   "source": [
    "## Downloading the Files"
   ]
  },
  {
   "cell_type": "code",
   "execution_count": 70,
   "metadata": {},
   "outputs": [
    {
     "data": {
      "text/plain": [
       "('images/sample-download.tif', <http.client.HTTPMessage at 0x11bf78828>)"
      ]
     },
     "execution_count": 70,
     "metadata": {},
     "output_type": "execute_result"
    }
   ],
   "source": [
    "#urllib.request allows you to open and read urls \n",
    "import urllib.request\n",
    "\n",
    "# To download one of the images from the database you can use the code below\n",
    "urllib.request.urlretrieve(\"http://lcweb2.loc.gov/frd/tfrussia/gulag000/000000f8.tif\", \n",
    "                          \"images/sample-download.tif\")\n",
    "\n"
   ]
  },
  {
   "cell_type": "code",
   "execution_count": 71,
   "metadata": {},
   "outputs": [
    {
     "name": "stdout",
     "output_type": "stream",
     "text": [
      "Help on function urlretrieve in module urllib.request:\n",
      "\n",
      "urlretrieve(url, filename=None, reporthook=None, data=None)\n",
      "    Retrieve a URL into a temporary location on disk.\n",
      "    \n",
      "    Requires a URL argument. If a filename is passed, it is used as\n",
      "    the temporary file location. The reporthook argument should be\n",
      "    a callable that accepts a block number, a read size, and the\n",
      "    total file size of the URL target. The data argument should be\n",
      "    valid URL encoded data.\n",
      "    \n",
      "    If a filename is passed and the URL points to a local resource,\n",
      "    the result is a copy from local file to new file.\n",
      "    \n",
      "    Returns a tuple containing the path to the newly created\n",
      "    data file as well as the resulting HTTPMessage object.\n",
      "\n"
     ]
    }
   ],
   "source": [
    "# To see the documentation for urllib.request.urlretrieve run the code below. \n",
    "# You can also use google to get more info. \n",
    "\n",
    "help(urllib.request.urlretrieve)"
   ]
  },
  {
   "cell_type": "markdown",
   "metadata": {},
   "source": [
    "### Practice Problem"
   ]
  },
  {
   "cell_type": "code",
   "execution_count": 121,
   "metadata": {},
   "outputs": [],
   "source": [
    "#Here is a list of the last three digits of the urls for the images you want to download\n",
    "\n",
    "images=[\"0f8\",\"114\",\"12f\",\"106\",\"110\",\"100\",\"112\",\"10b\",\"11e\",\"12e\",\"129\",\"115\",\"0fe\",\"117\",\"0fa\",\n",
    "       \"10f\", \"126\", \"119\",\"118\", \"0fd\",\"11a\",\"0ff\",\"123\",\"11d\",\"125\",\"11f\",\"102\",\"10e\",\"12b\",\n",
    "       \"10a\",\"104\",\"127\",\"12c\",\"124\",\"12a\",\"11c\",\"103\",\"101\",\"0fc\",\"12d\",\"11b\",\"10d\",\"116\",\n",
    "        \"0f9\",\"122\",\"128\",\"10c\",\"120\",\"0fb\",\"121\",\"0f7\",\"105\", \"107\",\"108\",\"109\",\"111\",\"113\"]\n"
   ]
  },
  {
   "cell_type": "code",
   "execution_count": null,
   "metadata": {},
   "outputs": [],
   "source": [
    "# Finish filling in this for loop to download the rest of the images. \n",
    "\n",
    "for ??? in ??? : \n",
    "    print(???) #Print out something to help you know how far along your loop is\n",
    "    urllib.request.urlretrieve(??? + item + '.tif', \"images/???\" + item +\".tif\")\n",
    "    "
   ]
  },
  {
   "cell_type": "markdown",
   "metadata": {},
   "source": [
    "### Solution\n",
    "Below is my solution to this problem. Try not to scroll down until you have made a diligent effort to finish writing the looping yourself. Note: you answer may be slightly different than mine. There are normally multiple ways to do things in python. "
   ]
  },
  {
   "cell_type": "code",
   "execution_count": 122,
   "metadata": {},
   "outputs": [
    {
     "name": "stdout",
     "output_type": "stream",
     "text": [
      "0f8\n",
      "114\n",
      "12f\n",
      "106\n",
      "110\n",
      "100\n",
      "112\n",
      "10b\n",
      "11e\n",
      "12e\n",
      "129\n",
      "115\n",
      "0fe\n",
      "117\n",
      "0fa\n",
      "10f\n",
      "126\n",
      "119\n",
      "118\n",
      "0fd\n",
      "11a\n",
      "0ff\n",
      "123\n",
      "11d\n",
      "125\n",
      "11f\n",
      "102\n",
      "10e\n",
      "12b\n",
      "10a\n",
      "104\n",
      "127\n",
      "12c\n",
      "124\n",
      "12a\n",
      "11c\n",
      "103\n",
      "101\n",
      "0fc\n",
      "12d\n",
      "11b\n",
      "10d\n",
      "116\n",
      "0f9\n",
      "122\n",
      "128\n",
      "10c\n",
      "120\n",
      "0fb\n",
      "121\n",
      "0f7\n",
      "105\n",
      "107\n",
      "108\n",
      "109\n",
      "111\n",
      "113\n"
     ]
    }
   ],
   "source": [
    "#Below is my example answer. \n",
    "#Yours may be different. There are normally multiple ways to do the same thing in python.\n",
    "\n",
    "for item in images: \n",
    "    print(item)\n",
    "    urllib.request.urlretrieve(\"http://lcweb2.loc.gov/frd/tfrussia/gulag000/00000\"+ item + '.tif',\n",
    "                               \"images/00000\" + item +\".tif\")"
   ]
  },
  {
   "cell_type": "markdown",
   "metadata": {},
   "source": [
    "Double check to make sure the files downloaded before proceeding. You should have 50+ tifs in your files folder.   "
   ]
  },
  {
   "cell_type": "markdown",
   "metadata": {},
   "source": [
    "## OCR'ing the files\n",
    "Now that you have a folder of tifs, we need to OCR them and create plain text files that we can analysis in python. \n",
    "We will start by importing the libraries we need. "
   ]
  },
  {
   "cell_type": "code",
   "execution_count": 123,
   "metadata": {},
   "outputs": [],
   "source": [
    "#Importing our libraries\n",
    "\n",
    "import glob #This lets us you regular expressions\n",
    "import pytesseract # This is a library for OCR'ing\n",
    "from PIL import Image  # This is a library for working with images\n"
   ]
  },
  {
   "cell_type": "markdown",
   "metadata": {},
   "source": [
    "Run the code below. **Don't panic! You will get a nasty looking error message.**"
   ]
  },
  {
   "cell_type": "code",
   "execution_count": 124,
   "metadata": {},
   "outputs": [
    {
     "name": "stdout",
     "output_type": "stream",
     "text": [
      "/000000f7\n"
     ]
    },
    {
     "ename": "OSError",
     "evalue": "encoder error -2 when writing image file",
     "output_type": "error",
     "traceback": [
      "\u001b[0;31m---------------------------------------------------------------------------\u001b[0m",
      "\u001b[0;31mOSError\u001b[0m                                   Traceback (most recent call last)",
      "\u001b[0;32m<ipython-input-124-ae167127dcbb>\u001b[0m in \u001b[0;36m<module>\u001b[0;34m()\u001b[0m\n\u001b[1;32m      3\u001b[0m     \u001b[0mprint\u001b[0m \u001b[0;34m(\u001b[0m\u001b[0mitem\u001b[0m\u001b[0;34m[\u001b[0m\u001b[0;36m6\u001b[0m\u001b[0;34m:\u001b[0m\u001b[0;34m-\u001b[0m\u001b[0;36m4\u001b[0m\u001b[0;34m]\u001b[0m\u001b[0;34m)\u001b[0m\u001b[0;34m\u001b[0m\u001b[0m\n\u001b[1;32m      4\u001b[0m     \u001b[0;32mwith\u001b[0m \u001b[0mopen\u001b[0m\u001b[0;34m(\u001b[0m\u001b[0;34m'plain-text/'\u001b[0m\u001b[0;34m+\u001b[0m \u001b[0mitem\u001b[0m\u001b[0;34m[\u001b[0m\u001b[0;36m6\u001b[0m\u001b[0;34m:\u001b[0m\u001b[0;34m-\u001b[0m\u001b[0;36m4\u001b[0m\u001b[0;34m]\u001b[0m\u001b[0;34m+\u001b[0m\u001b[0;34m'.txt'\u001b[0m\u001b[0;34m,\u001b[0m \u001b[0;34m'w'\u001b[0m\u001b[0;34m)\u001b[0m \u001b[0;32mas\u001b[0m \u001b[0mf\u001b[0m\u001b[0;34m:\u001b[0m\u001b[0;34m\u001b[0m\u001b[0m\n\u001b[0;32m----> 5\u001b[0;31m         \u001b[0mf\u001b[0m\u001b[0;34m.\u001b[0m\u001b[0mwrite\u001b[0m\u001b[0;34m(\u001b[0m\u001b[0;34m(\u001b[0m\u001b[0mpytesseract\u001b[0m\u001b[0;34m.\u001b[0m\u001b[0mimage_to_string\u001b[0m\u001b[0;34m(\u001b[0m\u001b[0mImage\u001b[0m\u001b[0;34m.\u001b[0m\u001b[0mopen\u001b[0m\u001b[0;34m(\u001b[0m\u001b[0mitem\u001b[0m\u001b[0;34m)\u001b[0m\u001b[0;34m)\u001b[0m\u001b[0;34m)\u001b[0m\u001b[0;34m)\u001b[0m\u001b[0;34m\u001b[0m\u001b[0m\n\u001b[0m\u001b[1;32m      6\u001b[0m         \u001b[0mf\u001b[0m\u001b[0;34m.\u001b[0m\u001b[0mclose\u001b[0m\u001b[0;34m\u001b[0m\u001b[0m\n\u001b[1;32m      7\u001b[0m \u001b[0;34m\u001b[0m\u001b[0m\n",
      "\u001b[0;32m~/anaconda3/lib/python3.6/site-packages/pytesseract/pytesseract.py\u001b[0m in \u001b[0;36mimage_to_string\u001b[0;34m(image, lang, config, nice, boxes, output_type)\u001b[0m\n\u001b[1;32m    284\u001b[0m         \u001b[0;32mreturn\u001b[0m \u001b[0mrun_and_get_output\u001b[0m\u001b[0;34m(\u001b[0m\u001b[0mimage\u001b[0m\u001b[0;34m,\u001b[0m \u001b[0;34m'txt'\u001b[0m\u001b[0;34m,\u001b[0m \u001b[0mlang\u001b[0m\u001b[0;34m,\u001b[0m \u001b[0mconfig\u001b[0m\u001b[0;34m,\u001b[0m \u001b[0mnice\u001b[0m\u001b[0;34m,\u001b[0m \u001b[0;32mTrue\u001b[0m\u001b[0;34m)\u001b[0m\u001b[0;34m\u001b[0m\u001b[0m\n\u001b[1;32m    285\u001b[0m \u001b[0;34m\u001b[0m\u001b[0m\n\u001b[0;32m--> 286\u001b[0;31m     \u001b[0;32mreturn\u001b[0m \u001b[0mrun_and_get_output\u001b[0m\u001b[0;34m(\u001b[0m\u001b[0mimage\u001b[0m\u001b[0;34m,\u001b[0m \u001b[0;34m'txt'\u001b[0m\u001b[0;34m,\u001b[0m \u001b[0mlang\u001b[0m\u001b[0;34m,\u001b[0m \u001b[0mconfig\u001b[0m\u001b[0;34m,\u001b[0m \u001b[0mnice\u001b[0m\u001b[0;34m)\u001b[0m\u001b[0;34m\u001b[0m\u001b[0m\n\u001b[0m\u001b[1;32m    287\u001b[0m \u001b[0;34m\u001b[0m\u001b[0m\n\u001b[1;32m    288\u001b[0m \u001b[0;34m\u001b[0m\u001b[0m\n",
      "\u001b[0;32m~/anaconda3/lib/python3.6/site-packages/pytesseract/pytesseract.py\u001b[0m in \u001b[0;36mrun_and_get_output\u001b[0;34m(image, extension, lang, config, nice, return_bytes)\u001b[0m\n\u001b[1;32m    182\u001b[0m     \u001b[0mtemp_name\u001b[0m\u001b[0;34m,\u001b[0m \u001b[0minput_filename\u001b[0m \u001b[0;34m=\u001b[0m \u001b[0;34m''\u001b[0m\u001b[0;34m,\u001b[0m \u001b[0;34m''\u001b[0m\u001b[0;34m\u001b[0m\u001b[0m\n\u001b[1;32m    183\u001b[0m     \u001b[0;32mtry\u001b[0m\u001b[0;34m:\u001b[0m\u001b[0;34m\u001b[0m\u001b[0m\n\u001b[0;32m--> 184\u001b[0;31m         \u001b[0mtemp_name\u001b[0m\u001b[0;34m,\u001b[0m \u001b[0minput_filename\u001b[0m \u001b[0;34m=\u001b[0m \u001b[0msave_image\u001b[0m\u001b[0;34m(\u001b[0m\u001b[0mimage\u001b[0m\u001b[0;34m)\u001b[0m\u001b[0;34m\u001b[0m\u001b[0m\n\u001b[0m\u001b[1;32m    185\u001b[0m         kwargs = {\n\u001b[1;32m    186\u001b[0m             \u001b[0;34m'input_filename'\u001b[0m\u001b[0;34m:\u001b[0m \u001b[0minput_filename\u001b[0m\u001b[0;34m,\u001b[0m\u001b[0;34m\u001b[0m\u001b[0m\n",
      "\u001b[0;32m~/anaconda3/lib/python3.6/site-packages/pytesseract/pytesseract.py\u001b[0m in \u001b[0;36msave_image\u001b[0;34m(image)\u001b[0m\n\u001b[1;32m    116\u001b[0m     \u001b[0mtemp_name\u001b[0m \u001b[0;34m=\u001b[0m \u001b[0mtempfile\u001b[0m\u001b[0;34m.\u001b[0m\u001b[0mmktemp\u001b[0m\u001b[0;34m(\u001b[0m\u001b[0mprefix\u001b[0m\u001b[0;34m=\u001b[0m\u001b[0;34m'tess_'\u001b[0m\u001b[0;34m)\u001b[0m\u001b[0;34m\u001b[0m\u001b[0m\n\u001b[1;32m    117\u001b[0m     \u001b[0minput_file_name\u001b[0m \u001b[0;34m=\u001b[0m \u001b[0mtemp_name\u001b[0m \u001b[0;34m+\u001b[0m \u001b[0mos\u001b[0m\u001b[0;34m.\u001b[0m\u001b[0mextsep\u001b[0m \u001b[0;34m+\u001b[0m \u001b[0mimg_extension\u001b[0m\u001b[0;34m\u001b[0m\u001b[0m\n\u001b[0;32m--> 118\u001b[0;31m     \u001b[0mimage\u001b[0m\u001b[0;34m.\u001b[0m\u001b[0msave\u001b[0m\u001b[0;34m(\u001b[0m\u001b[0minput_file_name\u001b[0m\u001b[0;34m,\u001b[0m \u001b[0mformat\u001b[0m\u001b[0;34m=\u001b[0m\u001b[0mimg_extension\u001b[0m\u001b[0;34m,\u001b[0m \u001b[0;34m**\u001b[0m\u001b[0mimage\u001b[0m\u001b[0;34m.\u001b[0m\u001b[0minfo\u001b[0m\u001b[0;34m)\u001b[0m\u001b[0;34m\u001b[0m\u001b[0m\n\u001b[0m\u001b[1;32m    119\u001b[0m     \u001b[0;32mreturn\u001b[0m \u001b[0mtemp_name\u001b[0m\u001b[0;34m,\u001b[0m \u001b[0minput_file_name\u001b[0m\u001b[0;34m\u001b[0m\u001b[0m\n\u001b[1;32m    120\u001b[0m \u001b[0;34m\u001b[0m\u001b[0m\n",
      "\u001b[0;32m~/anaconda3/lib/python3.6/site-packages/PIL/Image.py\u001b[0m in \u001b[0;36msave\u001b[0;34m(self, fp, format, **params)\u001b[0m\n\u001b[1;32m   1933\u001b[0m \u001b[0;34m\u001b[0m\u001b[0m\n\u001b[1;32m   1934\u001b[0m         \u001b[0;32mtry\u001b[0m\u001b[0;34m:\u001b[0m\u001b[0;34m\u001b[0m\u001b[0m\n\u001b[0;32m-> 1935\u001b[0;31m             \u001b[0msave_handler\u001b[0m\u001b[0;34m(\u001b[0m\u001b[0mself\u001b[0m\u001b[0;34m,\u001b[0m \u001b[0mfp\u001b[0m\u001b[0;34m,\u001b[0m \u001b[0mfilename\u001b[0m\u001b[0;34m)\u001b[0m\u001b[0;34m\u001b[0m\u001b[0m\n\u001b[0m\u001b[1;32m   1936\u001b[0m         \u001b[0;32mfinally\u001b[0m\u001b[0;34m:\u001b[0m\u001b[0;34m\u001b[0m\u001b[0m\n\u001b[1;32m   1937\u001b[0m             \u001b[0;31m# do what we can to clean up\u001b[0m\u001b[0;34m\u001b[0m\u001b[0;34m\u001b[0m\u001b[0m\n",
      "\u001b[0;32m~/anaconda3/lib/python3.6/site-packages/PIL/TiffImagePlugin.py\u001b[0m in \u001b[0;36m_save\u001b[0;34m(im, fp, filename)\u001b[0m\n\u001b[1;32m   1533\u001b[0m                 \u001b[0;32mbreak\u001b[0m\u001b[0;34m\u001b[0m\u001b[0m\n\u001b[1;32m   1534\u001b[0m         \u001b[0;32mif\u001b[0m \u001b[0ms\u001b[0m \u001b[0;34m<\u001b[0m \u001b[0;36m0\u001b[0m\u001b[0;34m:\u001b[0m\u001b[0;34m\u001b[0m\u001b[0m\n\u001b[0;32m-> 1535\u001b[0;31m             \u001b[0;32mraise\u001b[0m \u001b[0mIOError\u001b[0m\u001b[0;34m(\u001b[0m\u001b[0;34m\"encoder error %d when writing image file\"\u001b[0m \u001b[0;34m%\u001b[0m \u001b[0ms\u001b[0m\u001b[0;34m)\u001b[0m\u001b[0;34m\u001b[0m\u001b[0m\n\u001b[0m\u001b[1;32m   1536\u001b[0m \u001b[0;34m\u001b[0m\u001b[0m\n\u001b[1;32m   1537\u001b[0m     \u001b[0;32melse\u001b[0m\u001b[0;34m:\u001b[0m\u001b[0;34m\u001b[0m\u001b[0m\n",
      "\u001b[0;31mOSError\u001b[0m: encoder error -2 when writing image file"
     ]
    }
   ],
   "source": [
    "#OCRing images and creating txt files\n",
    "for item in glob.glob('images/*'):\n",
    "    print (item[6:-4])\n",
    "    with open('plain-text/'+ item[6:-4]+'.txt', 'w') as f:\n",
    "        f.write((pytesseract.image_to_string(Image.open(item))))\n",
    "        f.close\n",
    "        \n",
    "        "
   ]
  },
  {
   "cell_type": "markdown",
   "metadata": {},
   "source": [
    "### Question: \n",
    "Spend a few minutes trying to look up the error message and see what you can find. \n",
    "\n",
    "What are your techniques for trying to find a solution? (i.e. what terms are you using to google your problem?)\n",
    "\n",
    "Did you find anything useful? \n",
    "\n"
   ]
  },
  {
   "cell_type": "markdown",
   "metadata": {},
   "source": [
    "**This is a very tricky problem to solve. Don't get discourage if you can't understand all the suggestions you find in your search.**"
   ]
  },
  {
   "cell_type": "markdown",
   "metadata": {},
   "source": [
    "### Answer (sort of): \n",
    "I would recommend using the error message to search for a solution. So, in this case, I would search for \"OSError: encoder error -2 when writing image file.\" If you followed this approach you should have a found a few stacks overflow posts and a github issue along with a few other sources. In general StacksOverflow and GitHub are good sources for trying to troubleshoot your code.\n",
    "\n",
    "In this case, you likely learned that the problem seems to be rooted in the PIL library and its configuration. There are few suggestions for how to fix the problem from several years ago. Try to find the most recent solution. Sometimes you will have to do quite a bit of sleuthing. For example, take a look at this github thread from 2013 that seems to relate to the issue we are experiencing: https://github.com/python-pillow/Pillow/issues/396. \n",
    "\n",
    "In general, we wouldn't want to look at a thread from 5+ plus years ago, but the last comment in the thread is from June 2018 and links to a much newer issue. Click that link to go to this github issue: https://github.com/madmaze/pytesseract/issues/127. \n",
    "\n",
    "Reading through this thread it seems like the issue is an old style of Tiff conversion that the PIL (or Pillow) library uses. One of the reccomendation is to \"Add passthrough option in order to skip any conversion - raw image mode.\" So to get this OCR to work, you could open each image on your computer and export it to a new file format. **Are there ways you could do this in bulk using a program already installed on your computer?** \n",
    "\n",
    "For sake of simplicity, I have done this converstion for you using a command-line tool called imagemagick. You could also do this in bulk with a GUI(graphical user interface) like Adobe Bridge. You can find these new files in the folder called images-converted. \n"
   ]
  },
  {
   "cell_type": "code",
   "execution_count": 125,
   "metadata": {},
   "outputs": [
    {
     "name": "stdout",
     "output_type": "stream",
     "text": [
      "000000f7\n",
      "000000f8\n",
      "000000f9\n",
      "000000fa\n",
      "000000fb\n",
      "000000fc\n",
      "000000fd\n",
      "000000fe\n",
      "000000ff\n",
      "00000100\n",
      "00000101\n",
      "00000102\n",
      "00000103\n",
      "00000104\n",
      "00000105\n",
      "00000106\n",
      "00000107\n",
      "00000108\n",
      "00000109\n",
      "0000010a\n",
      "0000010b\n",
      "0000010c\n",
      "0000010d\n",
      "0000010e\n",
      "0000010f\n",
      "00000110\n",
      "00000111\n",
      "00000112\n",
      "00000113\n",
      "00000114\n",
      "00000115\n",
      "00000116\n",
      "00000117\n",
      "00000118\n",
      "00000119\n",
      "0000011a\n",
      "0000011b\n",
      "0000011c\n",
      "0000011d\n",
      "0000011e\n",
      "0000011f\n",
      "00000120\n",
      "00000121\n",
      "00000122\n",
      "00000123\n",
      "00000124\n",
      "00000125\n",
      "00000126\n",
      "00000127\n",
      "00000128\n",
      "00000129\n",
      "0000012a\n",
      "0000012b\n",
      "0000012c\n",
      "0000012d\n",
      "0000012e\n",
      "0000012f\n"
     ]
    }
   ],
   "source": [
    "#OCRing images and creating txt files\n",
    "for item in glob.glob('images-converted/*'):\n",
    "    print (item[17:-4])\n",
    "    with open('plain-text/'+ item[17:-4]+'.txt', 'w') as f:\n",
    "        f.write((pytesseract.image_to_string(Image.open(item))))\n",
    "        f.close\n",
    "        \n",
    "#This code will take some time to run. So look at the questions below while you wait.        "
   ]
  },
  {
   "cell_type": "markdown",
   "metadata": {},
   "source": [
    "### Question:  \n",
    "Why did we use the code **item[17:-4]** instead of **item** or **item[6:-4]**? \n",
    "\n",
    "### Answer: \n",
    "We wanted to reuse the filename for the text files. So in order to do that we needed to elminate the extra folder before the filename. Since we switch folders from images to images-converted we need extra space. The -4 eliminates the last four characters of the string which includes **.tif or .jpg** for all of our files. "
   ]
  },
  {
   "cell_type": "markdown",
   "metadata": {},
   "source": [
    "### Open Ended Question(s):\n",
    "* How could you learn more about pytesseract?\n",
    "* Use the cell below to find the documentation without leaving the jupyter notebook. \n",
    "* What other methods could you use? "
   ]
  },
  {
   "cell_type": "code",
   "execution_count": null,
   "metadata": {},
   "outputs": [],
   "source": []
  },
  {
   "cell_type": "markdown",
   "metadata": {},
   "source": [
    "### Practice Problem\n",
    "Use the documentation you found to explain the code we just ran/are running. Add comments to each line after # in the cell below. Commenting your code will make it easier to go back to and to share with others. \n",
    "\n",
    "*Note: You might want to look at some documentation on the [with statement](http://www.pythonforbeginners.com/files/with-statement-in-python) to understand lines 4-6. \n",
    "\n",
    "It is ok if you don't understand every step perfectly. Just aim for a basic understanding of what is going on. There is no shame in looking things up now or after you have been coding for years! \n"
   ]
  },
  {
   "cell_type": "code",
   "execution_count": null,
   "metadata": {},
   "outputs": [],
   "source": [
    "#OCRing images and creating txt files\n",
    "for item in glob.glob('images-converted/*'): #\n",
    "    print (item[17:-4]) #\n",
    "    with open('plain-text/'+ item[17:-4]+'.txt', 'w') as f: #\n",
    "        f.write((pytesseract.image_to_string(Image.open(item)))) #\n",
    "        f.close #"
   ]
  },
  {
   "cell_type": "markdown",
   "metadata": {},
   "source": [
    "## Dealing with Messy Data\n",
    "In a perfect world, we would be dealing with nicely typed and visible images. Unfortunately, much of the data we are using is far from perfect. Let's start by viewing a few sample files to see well our OCR program worked. \n",
    "\n",
    "In the code below, change the file variable to see how well different images were OCR'ed. Remember to use tab completion to save yourself time!"
   ]
  },
  {
   "cell_type": "code",
   "execution_count": 194,
   "metadata": {},
   "outputs": [
    {
     "name": "stdout",
     "output_type": "stream",
     "text": [
      ". «m . \\'\n",
      "\n",
      "“AUCUAIVEIS\n",
      "\n",
      "66m COUNTER INTELLIGENCE CORPS GROUP\n",
      "UNITED STATES ARMY, EUROPE\n",
      "\n",
      " \n",
      "\n",
      "APO :54 us ARMY t\n",
      ". ’ '~ (:34 E \\\n",
      "D—JOL’N ‘ ‘ ‘ {’3\n",
      "W: W Win at 118 from]. (c) i\n",
      "1‘0: hast-m. m .2 Butt, a: R\n",
      "mm Batu Am, Inn-0pc Cb . 4;\n",
      "no m3. us my ‘ &\n",
      "mm; - We ' \\‘u\n",
      "\n",
      "  \n",
      "   \n",
      "  \n",
      "   \n",
      "   \n",
      "  \n",
      "  \n",
      "\n",
      ":“nl\n",
      "—LA‘\n",
      "\n",
      "1. lift-mo Mm, un bulgm, CI“ 22 Aunt 1955.\n",
      "\n",
      "2, hum-ind Miamunt Bayon- WWI\n",
      "mom-umupruuuuumah.\n",
      "\n",
      "human-n- #:1111113 mﬂxmmmmm,\n",
      "W' um]. bom25 brunt-y mm M may\n",
      "mum; “Riel-um, m, w. ' '\n",
      "\n",
      "BY GDR USAINSCOM FOIPO\n",
      "lath Para 1-603 DOD 5200. 1-3\n",
      "\n",
      "V 11ml: Lag .\n",
      "“\"m.5m(w)' \" Gulch-limo\n",
      "\n",
      "FOR OFF‘ClAL USE ONLmﬁed 1o pfar 43. SR 380-32010.c:v1:i::nx:: 1'\n",
      "REGRADING DATA CANNOT BE PREDEIERMINED ”(M o. , c j G , .\n",
      "\n",
      "51 um V\n",
      "' ' - ‘1 “r' .5 nm cot- , ,\n",
      "\n",
      "x/nx scum nu or «on; m (2) ngggQﬁgﬁgﬁﬁmmzmm #.\n",
      "no at when m ham u an Air Force _'\" Laylﬂvm _ ~2., V:\n",
      "In- ot other In moan. B _p33m¢;:tch‘;c}‘cmy.orl.31A5r>au;lzctzly‘gmu:ho ed 7\n",
      "disclosur: of such icfmmnion wul be wandered to -\n",
      "\n",
      "\" ' iijmbﬁw .9! AE’S'EiE ‘\n",
      "\n",
      "v ,\n"
     ]
    }
   ],
   "source": [
    "file = \"plain-text/000000ff.txt\"\n",
    "\n",
    "text = open(file, \"r\") \n",
    "text = (text.read())\n",
    "\n",
    "print(text)\n",
    "\n"
   ]
  },
  {
   "cell_type": "code",
   "execution_count": 192,
   "metadata": {},
   "outputs": [
    {
     "ename": "AttributeError",
     "evalue": "'list' object has no attribute 'strip'",
     "output_type": "error",
     "traceback": [
      "\u001b[0;31m---------------------------------------------------------------------------\u001b[0m",
      "\u001b[0;31mAttributeError\u001b[0m                            Traceback (most recent call last)",
      "\u001b[0;32m<ipython-input-192-3a454ff1a6de>\u001b[0m in \u001b[0;36m<module>\u001b[0;34m()\u001b[0m\n\u001b[0;32m----> 1\u001b[0;31m \u001b[0mlines\u001b[0m\u001b[0;34m.\u001b[0m\u001b[0mstrip\u001b[0m\u001b[0;34m(\u001b[0m\u001b[0;34m)\u001b[0m\u001b[0;34m\u001b[0m\u001b[0m\n\u001b[0m\u001b[1;32m      2\u001b[0m \u001b[0;34m\u001b[0m\u001b[0m\n\u001b[1;32m      3\u001b[0m \u001b[0;34m\u001b[0m\u001b[0m\n\u001b[1;32m      4\u001b[0m \u001b[0mwords\u001b[0m \u001b[0;34m=\u001b[0m \u001b[0mtext\u001b[0m\u001b[0;34m.\u001b[0m\u001b[0msplit\u001b[0m\u001b[0;34m(\u001b[0m\u001b[0;34m' '\u001b[0m\u001b[0;34m)\u001b[0m\u001b[0;34m\u001b[0m\u001b[0m\n\u001b[1;32m      5\u001b[0m \u001b[0mprint\u001b[0m \u001b[0;34m(\u001b[0m\u001b[0mwords\u001b[0m\u001b[0;34m)\u001b[0m\u001b[0;34m\u001b[0m\u001b[0m\n",
      "\u001b[0;31mAttributeError\u001b[0m: 'list' object has no attribute 'strip'"
     ]
    }
   ],
   "source": [
    "\n",
    "\n",
    "words = text.split(' ')\n",
    "print (words)"
   ]
  },
  {
   "cell_type": "code",
   "execution_count": 184,
   "metadata": {},
   "outputs": [
    {
     "name": "stdout",
     "output_type": "stream",
     "text": [
      "['', '«m', '', '\\n\\n“AUCUAIVEIS\\n\\n66m', 'COUNTER', 'INTELLIGENCE', 'CORPS', 'GROUP\\nUNITED', 'STATES', 'ARMY', 'EUROPE\\n\\n', '\\n\\nAPO', '54', 'us', 'ARMY', 't\\n', '’', '', '34', 'E', '\\nD—JOL’N', '‘', '‘', '‘', '’3\\nW', 'W', 'Win', 'at', '118', 'from', 'c', 'i\\n1‘0', 'hastm', 'm', '2', 'Butt', 'a', 'R\\nmm', 'Batu', 'Am', 'Inn0pc', 'Cb', '', '4\\nno', 'm3', 'us', 'my', '‘', '\\nmm', '', 'We', '', '‘u\\n\\n', '', '\\n', '', '', '\\n', '', '\\n', '', '', '\\n', '', '', '\\n', '', '\\n', '', '\\n\\n“nl\\n—LA‘\\n\\n1', 'liftmo', 'Mm', 'un', 'bulgm', 'CI“', '22', 'Aunt', '1955\\n\\n2', 'humind', 'Miamunt', 'Bayon', 'WWI\\nmomumupruuuuumah\\n\\nhumann', '1111113', 'mﬂxmmmmm\\nW', 'um', 'bom25', 'brunty', 'mm', 'M', 'may\\nmum', '“Rielum', 'm', 'w', '', '\\n\\nBY', 'GDR', 'USAINSCOM', 'FOIPO\\nlath', 'Para', '1603', 'DOD', '5200', '13\\n\\nV', '11ml', 'Lag', '\\n“m5mw', '', 'Gulchlimo\\n\\nFOR', 'OFF‘ClAL', 'USE', 'ONLmﬁed', '1o', 'pfar', '43', 'SR', '38032010cv1inx', '1\\nREGRADING', 'DATA', 'CANNOT', 'BE', 'PREDEIERMINED', '”M', 'o', '', 'c', 'j', 'G', '', '\\n\\n51', 'um', 'V\\n', '', '', '‘1', '“r', '5', 'nm', 'cot', '', '\\n\\nxnx', 'scum', 'nu', 'or', '«on', 'm', '2', 'ngggQﬁgﬁgﬁﬁmmzmm', '\\nno', 'at', 'when', 'm', 'ham', 'u', 'an', 'Air', 'Force', '', 'Laylﬂvm', '', '2', 'V\\nIn', 'ot', 'other', 'In', 'moan', 'B', 'p33m¢tch‘c‘cmyorl31A5raulzctzly‘gmuho', 'ed', '7\\ndisclosur', 'of', 'such', 'icfmmnion', 'wul', 'be', 'wandered', 'to', '\\n\\n', '', 'iijmbﬁw', '9', 'AE’SEiE', '‘\\n\\nv', '']\n",
      "['«m', '\\n\\n“AUCUAIVEIS\\n\\n66m', 'COUNTER', 'INTELLIGENCE', 'CORPS', 'GROUP\\nUNITED', 'STATES', 'ARMY', 'EUROPE\\n\\n', '\\n\\nAPO', '54', 'us', 'ARMY', 't\\n', '’', '34', 'E', '\\nD—JOL’N', '‘', '‘', '‘', '’3\\nW', 'W', 'Win', 'at', '118', 'from', 'c', 'i\\n1‘0', 'hastm', 'm', '2', 'Butt', 'a', 'R\\nmm', 'Batu', 'Am', 'Inn0pc', 'Cb', '4\\nno', 'm3', 'us', 'my', '‘', '\\nmm', 'We', '‘u\\n\\n', '\\n', '\\n', '\\n', '\\n', '\\n', '\\n', '\\n\\n“nl\\n—LA‘\\n\\n1', 'liftmo', 'Mm', 'un', 'bulgm', 'CI“', '22', 'Aunt', '1955\\n\\n2', 'humind', 'Miamunt', 'Bayon', 'WWI\\nmomumupruuuuumah\\n\\nhumann', '1111113', 'mﬂxmmmmm\\nW', 'um', 'bom25', 'brunty', 'mm', 'M', 'may\\nmum', '“Rielum', 'm', 'w', '\\n\\nBY', 'GDR', 'USAINSCOM', 'FOIPO\\nlath', 'Para', '1603', 'DOD', '5200', '13\\n\\nV', '11ml', 'Lag', '\\n“m5mw', 'Gulchlimo\\n\\nFOR', 'OFF‘ClAL', 'USE', 'ONLmﬁed', '1o', 'pfar', '43', 'SR', '38032010cv1inx', '1\\nREGRADING', 'DATA', 'CANNOT', 'BE', 'PREDEIERMINED', '”M', 'o', 'c', 'j', 'G', '\\n\\n51', 'um', 'V\\n', '‘1', '“r', '5', 'nm', 'cot', '\\n\\nxnx', 'scum', 'nu', 'or', '«on', 'm', '2', 'ngggQﬁgﬁgﬁﬁmmzmm', '\\nno', 'at', 'when', 'm', 'ham', 'u', 'an', 'Air', 'Force', 'Laylﬂvm', '2', 'V\\nIn', 'ot', 'other', 'In', 'moan', 'B', 'p33m¢tch‘c‘cmyorl31A5raulzctzly‘gmuho', 'ed', '7\\ndisclosur', 'of', 'such', 'icfmmnion', 'wul', 'be', 'wandered', 'to', '\\n\\n', 'iijmbﬁw', '9', 'AE’SEiE', '‘\\n\\nv']\n"
     ]
    }
   ],
   "source": [
    "import string\n",
    "table = str.maketrans('', '', string.punctuation)\n",
    "stripped = [w.translate(table) for w in words]\n",
    "print(stripped)\n",
    "\n",
    "str_list = list(filter(None, stripped))\n",
    "\n",
    "print(str_list)"
   ]
  },
  {
   "cell_type": "code",
   "execution_count": null,
   "metadata": {},
   "outputs": [],
   "source": []
  }
 ],
 "metadata": {
  "kernelspec": {
   "display_name": "Python 3",
   "language": "python",
   "name": "python3"
  },
  "language_info": {
   "codemirror_mode": {
    "name": "ipython",
    "version": 3
   },
   "file_extension": ".py",
   "mimetype": "text/x-python",
   "name": "python",
   "nbconvert_exporter": "python",
   "pygments_lexer": "ipython3",
   "version": "3.6.5"
  }
 },
 "nbformat": 4,
 "nbformat_minor": 2
}
